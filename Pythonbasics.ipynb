{
 "cells": [
  {
   "cell_type": "code",
   "execution_count": null,
   "id": "497d171b-458f-487d-82ad-fa55958b5914",
   "metadata": {},
   "outputs": [],
   "source": []
  },
  {
   "cell_type": "code",
   "execution_count": null,
   "id": "ad6e8d9d-6262-477c-bdfb-78b7cc551404",
   "metadata": {},
   "outputs": [],
   "source": [
    "Q1  - What is Python, and why is it popular?\n",
    "Ans - python is programming language and it is popular due to its simplicity and readability. It is widely use in the industries.\n",
    "      And also use in data science, machine learning,automation etc."
   ]
  },
  {
   "cell_type": "code",
   "execution_count": null,
   "id": "0fbcb35c-b0c3-406a-a041-a87333f41be0",
   "metadata": {},
   "outputs": [],
   "source": [
    "Q2  - What is an interpreter in Python?\n",
    "Ans - An interpreter in Python is a program that reads and executes Python code line-by-line, rather than compiling the entire code into\n",
    "      machine language before execution. This approach allows for interactive coding and immediate feedback, which makes Python a popular\n",
    "      choice for beginners, scripting, and rapid development."
   ]
  },
  {
   "cell_type": "code",
   "execution_count": null,
   "id": "95be6b50-8410-41d0-9d7e-26ce164bc567",
   "metadata": {},
   "outputs": [],
   "source": [
    "Q3  - What are pre-defined keywords in Python?\n",
    "Ans - Pre-defined keywords in Python are reserved words that have special meaning to the Python interpreter. These keywords form the core\n",
    "      syntax of the language and cannot be used as variable names, function names, or identifiers.\n"
   ]
  },
  {
   "cell_type": "code",
   "execution_count": null,
   "id": "60c42430-e634-4e38-ac9a-5b85c8cf7433",
   "metadata": {},
   "outputs": [],
   "source": [
    "Q5  - What is mutability in Python?\n",
    "Ans - Mutability in Python refers to an object's ability to be changed or modified after it has been created."
   ]
  },
  {
   "cell_type": "code",
   "execution_count": null,
   "id": "2de839cb-a06a-4efb-86d6-f905a331db68",
   "metadata": {},
   "outputs": [],
   "source": [
    "Q6  - Why are lists mutable, but tuples are immutable?\n",
    "Ans - Lists are dynamic, ordered collections of items.Lists are designed to be flexible, allowing frequent changes like appending, deleting,\n",
    "      or sorting items.\n",
    "      Tuples cannot be modified after they are created. You cannot add, delete, or change elements.Tuples are used to store fixed                  \n",
    "      collections of data that shouldn't change, like coordinates or data records.\n"
   ]
  },
  {
   "cell_type": "code",
   "execution_count": null,
   "id": "620ca1a9-3d90-4b3c-9bc8-60a7b72c5d3b",
   "metadata": {},
   "outputs": [],
   "source": [
    "Q7  - What is the difference between “==” and “is” operators in Python?\n",
    "Ans -\"==\" (Equality Operator):-\n",
    "      1) Compares values: It checks if the values of two objects are equal.\n",
    "      2) It does not care if the objects are the same object in memory.\n",
    "      3) Works with all data types (numbers, strings, lists, dictionaries, etc.\n",
    "\n",
    "      \"Is\" (Identity operator):-\n",
    "      1) Compares identity: It checks if two variables point to the same object in memory.\n",
    "      2) It checks if the memory addresses (object references) are the same.\n",
    "      3) Useful for checking if two variables refer to the exact same object."
   ]
  },
  {
   "cell_type": "code",
   "execution_count": null,
   "id": "3d1c5110-6578-46de-907e-427ffc811d72",
   "metadata": {},
   "outputs": [],
   "source": [
    "Q8  -  What are logical operators in Python?\n",
    "Ans -  Logical operators in Python are used to combine conditional statements or expressions to produce a single Boolean result\n",
    "      (True or False).\n"
   ]
  },
  {
   "cell_type": "code",
   "execution_count": null,
   "id": "20cfef52-9551-4f49-a59e-6e2fd8f5af50",
   "metadata": {},
   "outputs": [],
   "source": [
    "Q9  - What is type casting in Python?\n",
    "Ans - Type casting in Python refers to converting one data type into another."
   ]
  },
  {
   "cell_type": "code",
   "execution_count": null,
   "id": "49c2cec8-3f50-48f2-9c76-8382745b8675",
   "metadata": {},
   "outputs": [],
   "source": [
    "Q10 - What is the difference between implicit and explicit type casting?\n",
    "Ans - Implicit type casting -: Automatic conversion of a smaller data type to a larger data type by the compiler.\n",
    "      Explicit type casting -: Manual conversion of one data type to another using type casting operators."
   ]
  },
  {
   "cell_type": "code",
   "execution_count": null,
   "id": "9a04efbe-aacc-472d-98c1-6e824fb4e7b7",
   "metadata": {},
   "outputs": [],
   "source": [
    "Q11 - What is the purpose of conditional statements in Python?\n",
    "Ans - The purpose of conditional statements in Python is to control the flow of a program based on certain conditions. They allow the\n",
    "      program to make decisions and execute specific blocks of code only when certain conditions are met.\n"
   ]
  },
  {
   "cell_type": "code",
   "execution_count": null,
   "id": "eca4a951-8857-47b9-a5a7-9b5770c95837",
   "metadata": {},
   "outputs": [],
   "source": [
    "Q12 -  How does the elif statement work?\n",
    "Ans - It allows you to check multiple conditions one after another. It comes after an if statement and before an optional else statement."
   ]
  },
  {
   "cell_type": "code",
   "execution_count": null,
   "id": "6e287390-ff5c-4123-947d-810826cd2c0a",
   "metadata": {},
   "outputs": [],
   "source": [
    "Q13 - What is the difference between for and while loops?\n",
    "Ans - A for loop runs for a specific number of iterations, usually controlled by a range or a sequence (like a list, string, or iterable).\n",
    "      It is used when the number of iterations is known in advance.\n",
    "      A while loop runs as long as a condition remains True. It is typically used when the number of iterations is not known in advance.\n"
   ]
  },
  {
   "cell_type": "code",
   "execution_count": null,
   "id": "dd037d77-cf33-4c38-9832-b0b10066e5f0",
   "metadata": {},
   "outputs": [],
   "source": [
    "Q14 - Describe a scenario where a while loop is more suitable than a for loop?\n",
    "Ans - Scenario 1: User Authentication\n",
    "      Suppose you are building a login system where a user gets three attempts to enter the correct password, but the program should \n",
    "      terminate early if the user enters the correct password before using all the attempts.\n",
    "\n",
    "correct_password = \"secure123\"\n",
    "attempts = 0\n",
    "\n",
    "while attempts < 3:\n",
    "    user_input = input(\"Enter your password: \")\n",
    "    if user_input == correct_password:\n",
    "        print(\"Access granted!\")\n",
    "        break  # Exit the loop if the password is correct\n",
    "    else:\n",
    "        print(\"Incorrect password, try again.\")\n",
    "    attempts += 1\n",
    "\n",
    "if attempts == 3:\n",
    "    print(\"Too many failed attempts. Access denied.\")\n",
    "    \n",
    "    The loop should stop as soon as the user enters the correct password (not necessarily after 3 tries). If we used a for loop, we'd have\n",
    "    to iterate through all 3 attempts, but with while, we can exit early.\n",
    "\n",
    "\n"
   ]
  },
  {
   "cell_type": "markdown",
   "id": "248ff90c-5e46-427c-ae10-80e2a28aef17",
   "metadata": {},
   "source": [
    "                                                  #PRACTICAL_QUESTIONS"
   ]
  },
  {
   "cell_type": "code",
   "execution_count": null,
   "id": "3e277f7c-a322-47e1-99d2-6258a7b29318",
   "metadata": {},
   "outputs": [],
   "source": [
    "#Q1  - Write a Python program to print \"Hello, World!\"\n",
    "       print('Hello, world!')"
   ]
  },
  {
   "cell_type": "code",
   "execution_count": null,
   "id": "b0a469a4-9a25-4494-986a-26a60957e1d1",
   "metadata": {},
   "outputs": [],
   "source": [
    "#Q2  - Write a Python program that displays your name and age?\n",
    "      name = \"HIMANSHU SHAH \" \n",
    "      age = 28\n",
    "    print(\"My name is\", name)\n",
    "    print(\"I am\", age, \"years old\")"
   ]
  },
  {
   "cell_type": "code",
   "execution_count": null,
   "id": "ff5847b5-1177-474e-a47f-1057541d040d",
   "metadata": {},
   "outputs": [],
   "source": [
    "#Q3  - Write code to print all the pre-defined keywords in Python using the keyword library?\n",
    "     import keyword\n",
    "      print(\"Python keywords are...\")\n",
    "      print(keyword.kwlist)"
   ]
  },
  {
   "cell_type": "code",
   "execution_count": null,
   "id": "cd7c5675-7514-473e-86d0-13b7bd93944b",
   "metadata": {},
   "outputs": [],
   "source": [
    "Q4 - Write a program that checks if a given word is a Python keyword?\n",
    "     import keyword\n",
    "\n",
    "def is_python_keyword(word):\n",
    "    return keyword.iskeyword(word)\n",
    "\n",
    "word = input(\"Enter a word: \")\n",
    "print(f\"'{word}' is a Python keyword: {is_python_keyword(word)}\")"
   ]
  },
  {
   "cell_type": "code",
   "execution_count": null,
   "id": "ffe16cf9-e434-49df-8618-37982221d764",
   "metadata": {},
   "outputs": [],
   "source": [
    "#Q5 -  Create a list and tuple in Python, and demonstrate how attempting to change an element works differently\n",
    "      for each?\n",
    "      list = [10, 20, 30, 40]\n",
    "      list[1] = 25\n",
    "      #OUT - [10, 25, 30, 40]\n",
    "\n",
    "\n",
    "      tuple = (10, 20, 30, 40)\n",
    "      tuple[1] = 25\n",
    "      #Error: 'tuple' object does not support item assignment\n",
    "\n",
    "      #Tuples are immutable, meaning their elements cannot be changed, added, or removed after the tuple is created."
   ]
  },
  {
   "cell_type": "code",
   "execution_count": null,
   "id": "5093508d-bc5f-4b58-a46f-2db5f4d71cd8",
   "metadata": {},
   "outputs": [],
   "source": [
    "#Q6 - Write a function to demonstrate the behavior of mutable and immutable arguments\n",
    "      C = [1,2,3,5,\"Ajay\",true]\n",
    "      C[4] = \"Bijay\"\n",
    "   #out  C = [1,2,3,5,\"Bijay\", true]\n",
    "      #list is a type of mutable object.\n",
    "\n",
    "    B=\"PwSkills\"\n",
    "    b[0] = \"I\"\n",
    "#out **Error\n",
    "#string is immutable object"
   ]
  },
  {
   "cell_type": "code",
   "execution_count": null,
   "id": "8d18e419-3cf7-48e4-838a-a5849051c8fc",
   "metadata": {},
   "outputs": [],
   "source": [
    "#Q7 - same question As Q6"
   ]
  },
  {
   "cell_type": "code",
   "execution_count": null,
   "id": "d579deb6-d6e5-4c48-aeef-65006cf2649d",
   "metadata": {},
   "outputs": [],
   "source": [
    "#Q8 - Write a program to demonstrate the use of logical operators?\n",
    "      #Logical operators are used to check whether an expression is true or false\n",
    "\n",
    "    #And Example\n",
    "      if age < 33 and age > 20:\n",
    "\tprint (\"Young Man\")\n",
    "else:\n",
    "\tprint(\" Not Eligible \")\n",
    "\n",
    "      #OR Example\n",
    "    if age < 22 or age > 34:\n",
    "\tprint(\" Not Eligible to Work \")\n",
    "else:\n",
    "\tprint(\" Please forward Your Resume \")\n"
   ]
  },
  {
   "cell_type": "code",
   "execution_count": null,
   "id": "79873fb0-26a1-4733-bd7c-907c422c461e",
   "metadata": {},
   "outputs": [],
   "source": [
    "#Q9 - Write a Python program to convert user input from string to integer, float, and boolean types?\n",
    "\n",
    "      Name = input(\"please enter your name\"):\n",
    "\n",
    "    #if we provide input \"HIMANSHU\" then to convert it into int,float,bool i.e\n",
    "\n",
    "     int(Name)\n",
    "     float(Name)\n",
    "     bool(Name)"
   ]
  },
  {
   "cell_type": "code",
   "execution_count": null,
   "id": "533db430-08f2-4c36-a94d-6def086b0814",
   "metadata": {},
   "outputs": [],
   "source": [
    "#Q10 - Write code to demonstrate type casting with list elements?\n",
    "       List=[1,2,3,4,4,6]\n",
    "       new_list = str(list)\n",
    "#out: ['1','2','3','4','5','6']"
   ]
  },
  {
   "cell_type": "code",
   "execution_count": null,
   "id": "1c65e995-2228-4f7f-b054-4b958c44a9be",
   "metadata": {},
   "outputs": [],
   "source": [
    "#Q11 - Write a program that checks if a number is positive, negative, or zero?\n",
    "       if number > 0:\n",
    "        return \"The number is positive.\"\n",
    "    elif number < 0:\n",
    "        return \"The number is negative.\"\n",
    "    else:\n",
    "        return \"The number is zero.\"      "
   ]
  },
  {
   "cell_type": "code",
   "execution_count": null,
   "id": "37fa5e1a-70d2-4bc0-8903-34b1e6147b5d",
   "metadata": {},
   "outputs": [],
   "source": [
    "#Q12 -  Write a for loop to print numbers from 1 to 10\n",
    "       for i in range(1, 11):\n",
    "    print(i)"
   ]
  },
  {
   "cell_type": "code",
   "execution_count": null,
   "id": "8d4a8aac-abd4-4518-ae03-6f96261b612f",
   "metadata": {},
   "outputs": [],
   "source": [
    "#Q13 - Write a Python program to find the sum of all even numbers between 1 and 50\n",
    "      total_sum = 0\n",
    "      for number in range(1, 51):\n",
    "    if number % 2 == 0: \n",
    "        total_sum += number\n",
    "        print(\"The sum of all even numbers from 1 to 50 is:\", total_sum)"
   ]
  },
  {
   "cell_type": "code",
   "execution_count": null,
   "id": "7afe6f8d-6d59-4399-963f-432f75bc107d",
   "metadata": {},
   "outputs": [],
   "source": [
    "#Q14 - Write a program to reverse a string using a while loop.\n",
    "       def reverse_string():\n",
    "    input_str = \"hello\"\n",
    "    reversed_str = ''\n",
    "    i = len(input_str) - 1\n",
    "\n",
    "    while i >= 0:\n",
    "        reversed_str += input_str[i]\n",
    "        i -= 1\n",
    "\n",
    "    return reversed_str\n",
    "\n",
    "print(\"Original string: hello\")\n",
    "print(\"Reversed string:\", reverse_string())\n",
    "          "
   ]
  },
  {
   "cell_type": "code",
   "execution_count": null,
   "id": "5f9ddcaa-1103-44db-8675-d63a0cd72e60",
   "metadata": {},
   "outputs": [],
   "source": [
    "#Q15 - Write a Python program to calculate the factorial of a number provided by the user using a while loop.\n",
    "    \n",
    "n = input(int(\"Enter any number\":))\n",
    "fact = 1\n",
    "\n",
    "for i in range(1, n+1):\n",
    "    fact = fact * i\n",
    "\n",
    "print(\"The factorial of 23 is : \", end=\"\")\n",
    "print(fact)"
   ]
  }
 ],
 "metadata": {
  "kernelspec": {
   "display_name": "Python 3 (ipykernel)",
   "language": "python",
   "name": "python3"
  },
  "language_info": {
   "codemirror_mode": {
    "name": "ipython",
    "version": 3
   },
   "file_extension": ".py",
   "mimetype": "text/x-python",
   "name": "python",
   "nbconvert_exporter": "python",
   "pygments_lexer": "ipython3",
   "version": "3.11.7"
  }
 },
 "nbformat": 4,
 "nbformat_minor": 5
}
